{
 "cells": [
  {
   "cell_type": "code",
   "execution_count": null,
   "id": "dc2f520b-d971-4694-9a50-a712e2323998",
   "metadata": {
    "tags": []
   },
   "outputs": [],
   "source": [
    "import ipywidgets as widgets\n",
    "import numpy as numpy\n",
    "import thinkdsp as thinkdsp\n",
    "from thinkdsp import read_wave\n",
   ]
  },
  {
   "cell_type": "code",
   "execution_count": null,
   "id": "034b1eeb-2d56-47a6-9ff8-b2186ebcd0e6",
   "metadata": {},
   "outputs": [],
   "source": [
    "def low_pass(self, highcut, factor=0):\n",
    "    self.hs[abs(self.fs) > highcut] *= factor\n",
    "    "
   ]
  },
  {
   "cell_type": "code",
   "execution_count": null,
   "id": "b8ce344d-15e5-47b9-bba3-c70f0aabc1e1",
   "metadata": {},
   "outputs": [],
   "source": [
    "depth = widgets.IntSlider(\n",
    "    value=1200,\n",
    "    min=900,\n",
    "    max=1500,\n",
    "    step=100,\n",
    "    description='Underwater:',\n",
    "    continuous_update=True,\n",
    "    orientation='horizontal',\n",
    "    readout_format='d'\n",
    ")\n",
    "display(depth)"
   ]
  },
  {
   "cell_type": "code",
   "execution_count": null,
   "id": "f7e2a8eb-2b4a-44a9-91f0-0571b0b9fe82",
   "metadata": {},
   "outputs": [],
   "source": [
    "dp = depth.value"
   ]
  },
  {
   "cell_type": "code",
   "execution_count": null,
   "id": "c3f64e33-91b6-4b0f-8de5-966e2d277e44",
   "metadata": {},
   "outputs": [],
   "source": [
    "wave = read_wave('Panic.wav')"
   ]
  },
  {
   "cell_type": "code",
   "execution_count": null,
   "id": "cbbf5777-828e-4a99-a5df-16f997db1249",
   "metadata": {},
   "outputs": [],
   "source": [
    "wave.make_audio()"
   ]
  },
  {
   "cell_type": "code",
   "execution_count": null,
   "id": "94b86b20-2e00-4d76-9c40-3811407da021",
   "metadata": {},
   "outputs": [],
   "source": [
    "spectrum = wave.make_spectrum()"
   ]
  },
  {
   "cell_type": "code",
   "execution_count": null,
   "id": "1f8de96d-5d65-4776-ac00-9e1fd9ccb20e",
   "metadata": {},
   "outputs": [],
   "source": [
    "dp"
   ]
  },
  {
   "cell_type": "code",
   "execution_count": null,
   "id": "96c19294-b966-4f6b-92aa-503437ee2233",
   "metadata": {},
   "outputs": [],
   "source": [
    "low_pass(spectrum,highcut= dp)"
   ]
  },
  {
   "cell_type": "code",
   "execution_count": null,
   "id": "9914a661-8941-44b7-bfd5-de5db2f9dd7b",
   "metadata": {},
   "outputs": [],
   "source": [
    "finished = spectrum.make_wave()"
   ]
  },
  {
   "cell_type": "code",
   "execution_count": null,
   "id": "800ddd79-cd80-4108-b81d-d52c00e05f61",
   "metadata": {},
   "outputs": [],
   "source": [
    "finished.make_audio()"
   ]
  }
 ],
 "metadata": {
  "kernelspec": {
   "display_name": "Python 3 (ipykernel)",
   "language": "python",
   "name": "python3"
  },
  "language_info": {
   "codemirror_mode": {
    "name": "ipython",
    "version": 3
   },
   "file_extension": ".py",
   "mimetype": "text/x-python",
   "name": "python",
   "nbconvert_exporter": "python",
   "pygments_lexer": "ipython3",
   "version": "3.9.13"
  }
 },
 "nbformat": 4,
 "nbformat_minor": 5
}
